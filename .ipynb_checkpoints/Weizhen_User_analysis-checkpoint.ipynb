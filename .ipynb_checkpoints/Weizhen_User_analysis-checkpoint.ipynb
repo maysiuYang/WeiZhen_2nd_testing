{
 "cells": [
  {
   "cell_type": "markdown",
   "metadata": {},
   "source": [
    "## <center>坚果R1微博粉丝通推广</center >\n",
    "### <span style=\"color:orange\"><center>用户互动分析</center ><span>"
   ]
  },
  {
   "cell_type": "markdown",
   "metadata": {},
   "source": [
    "### <span style=\"color:orange\">业务场景<span>\n",
    "#### 分析任何数据之前先看一下数据背后的业务场景，搞明白数据代表的含义；\n",
    "#### 这是坚果R1手机微博粉丝通的其中一个推广活动数据，由\"惟真科技\"官方账号发布广告。"
   ]
  },
  {
   "cell_type": "markdown",
   "metadata": {},
   "source": [
    "####  活动页面展示"
   ]
  },
  {
   "cell_type": "code",
   "execution_count": 1,
   "metadata": {},
   "outputs": [
    {
     "data": {
      "text/html": [
       "<img src=\"./1.png\", width=500>"
      ],
      "text/plain": [
       "<IPython.core.display.HTML object>"
      ]
     },
     "metadata": {},
     "output_type": "display_data"
    }
   ],
   "source": [
    "%%html\n",
    "<img src=\"./1.png\", width=500>"
   ]
  },
  {
   "cell_type": "markdown",
   "metadata": {},
   "source": [
    "#### 用户互动详情"
   ]
  },
  {
   "cell_type": "code",
   "execution_count": 2,
   "metadata": {},
   "outputs": [
    {
     "data": {
      "text/html": [
       "<img src=\"./2.png\", width=500>"
      ],
      "text/plain": [
       "<IPython.core.display.HTML object>"
      ]
     },
     "metadata": {},
     "output_type": "display_data"
    }
   ],
   "source": [
    "%%html\n",
    "<img src=\"./2.png\", width=500>"
   ]
  },
  {
   "cell_type": "code",
   "execution_count": 27,
   "metadata": {},
   "outputs": [],
   "source": [
    "import numpy as np\n",
    "import pandas as pd\n",
    "import matplotlib.pyplot as plt\n",
    "from pylab import mpl\n",
    "import sklearn as sk\n",
    "%matplotlib inline\n",
    "import datetime\n",
    "import time\n",
    "import os\n",
    "import seaborn as sns"
   ]
  },
  {
   "cell_type": "markdown",
   "metadata": {},
   "source": [
    "#### 显示中文标签，负号"
   ]
  },
  {
   "cell_type": "code",
   "execution_count": 28,
   "metadata": {},
   "outputs": [],
   "source": [
    "mpl.rcParams['font.sans-serif'] = ['SimHei']\n",
    "mpl.rcParams['axes.unicode_minus'] = False"
   ]
  },
  {
   "cell_type": "code",
   "execution_count": 50,
   "metadata": {
    "scrolled": true
   },
   "outputs": [],
   "source": [
    "df = pd.read_csv('data.csv')"
   ]
  },
  {
   "cell_type": "markdown",
   "metadata": {},
   "source": [
    "### <span style=\"color:orange\">数据观察<span>\n",
    "#### 数据观察在数据分析中是非常重要的，为后续决策提供思路：数据有哪些特征？哪些数据需要清洗？"
   ]
  },
  {
   "cell_type": "code",
   "execution_count": 5,
   "metadata": {
    "scrolled": false
   },
   "outputs": [
    {
     "data": {
      "text/html": [
       "<div>\n",
       "<style>\n",
       "    .dataframe thead tr:only-child th {\n",
       "        text-align: right;\n",
       "    }\n",
       "\n",
       "    .dataframe thead th {\n",
       "        text-align: left;\n",
       "    }\n",
       "\n",
       "    .dataframe tbody tr th {\n",
       "        vertical-align: top;\n",
       "    }\n",
       "</style>\n",
       "<table border=\"1\" class=\"dataframe\">\n",
       "  <thead>\n",
       "    <tr style=\"text-align: right;\">\n",
       "      <th></th>\n",
       "      <th>id</th>\n",
       "      <th>mid</th>\n",
       "      <th>uid</th>\n",
       "      <th>parent</th>\n",
       "      <th>t</th>\n",
       "      <th>reposts_count</th>\n",
       "      <th>attitudes_count</th>\n",
       "      <th>comments_count</th>\n",
       "      <th>text</th>\n",
       "      <th>original_text</th>\n",
       "      <th>...</th>\n",
       "      <th>province</th>\n",
       "      <th>city</th>\n",
       "      <th>verified</th>\n",
       "      <th>verified_reason</th>\n",
       "      <th>verified_type</th>\n",
       "      <th>user_location</th>\n",
       "      <th>user_avatar</th>\n",
       "      <th>user_geo_enabled</th>\n",
       "      <th>picture</th>\n",
       "      <th>geo</th>\n",
       "    </tr>\n",
       "  </thead>\n",
       "  <tbody>\n",
       "    <tr>\n",
       "      <th>0</th>\n",
       "      <td>4242425860188448</td>\n",
       "      <td>4242425860188448</td>\n",
       "      <td>6208395989</td>\n",
       "      <td>null</td>\n",
       "      <td>1526956607</td>\n",
       "      <td>3859</td>\n",
       "      <td>1190</td>\n",
       "      <td>2690</td>\n",
       "      <td>次世代旗舰手机#坚果R1#，内藏来自未来的“电脑”，应该用来自未来的方式感受。点击体验：ht...</td>\n",
       "      <td>次世代旗舰手机#坚果R1#，内藏来自未来的“电脑”，应该用来自未来的方式感受。点击体验：ht...</td>\n",
       "      <td>...</td>\n",
       "      <td>33</td>\n",
       "      <td>1000</td>\n",
       "      <td>True</td>\n",
       "      <td>惟真科技有限公司官方微博</td>\n",
       "      <td>2</td>\n",
       "      <td>浙江</td>\n",
       "      <td>https://tvax1.sinaimg.cn/crop.0.0.200.200.180/...</td>\n",
       "      <td>False</td>\n",
       "      <td>null</td>\n",
       "      <td>null</td>\n",
       "    </tr>\n",
       "    <tr>\n",
       "      <th>1</th>\n",
       "      <td>4242429152513496</td>\n",
       "      <td>4242429152513496</td>\n",
       "      <td>3831881845</td>\n",
       "      <td>4242425860188448</td>\n",
       "      <td>1526957393</td>\n",
       "      <td>0</td>\n",
       "      <td>0</td>\n",
       "      <td>0</td>\n",
       "      <td>锤子科技，坚果R1[鼓掌][鼓掌][good][good]</td>\n",
       "      <td>锤子科技，坚果R1[鼓掌][鼓掌][good][good]</td>\n",
       "      <td>...</td>\n",
       "      <td>34</td>\n",
       "      <td>17</td>\n",
       "      <td>False</td>\n",
       "      <td>NaN</td>\n",
       "      <td>-1</td>\n",
       "      <td>安徽 池州</td>\n",
       "      <td>https://tvax1.sinaimg.cn/crop.0.0.960.960.180/...</td>\n",
       "      <td>True</td>\n",
       "      <td>null</td>\n",
       "      <td>null</td>\n",
       "    </tr>\n",
       "    <tr>\n",
       "      <th>2</th>\n",
       "      <td>4242435666349141</td>\n",
       "      <td>4242435666349141</td>\n",
       "      <td>2610108217</td>\n",
       "      <td>4242425860188448</td>\n",
       "      <td>1526958946</td>\n",
       "      <td>0</td>\n",
       "      <td>1</td>\n",
       "      <td>0</td>\n",
       "      <td>抽我[污]</td>\n",
       "      <td>抽我[污]</td>\n",
       "      <td>...</td>\n",
       "      <td>11</td>\n",
       "      <td>1000</td>\n",
       "      <td>False</td>\n",
       "      <td>NaN</td>\n",
       "      <td>-1</td>\n",
       "      <td>北京</td>\n",
       "      <td>https://tvax3.sinaimg.cn/crop.0.0.1342.1342.18...</td>\n",
       "      <td>True</td>\n",
       "      <td>null</td>\n",
       "      <td>null</td>\n",
       "    </tr>\n",
       "    <tr>\n",
       "      <th>3</th>\n",
       "      <td>4242439423860642</td>\n",
       "      <td>4242439423860642</td>\n",
       "      <td>5277533822</td>\n",
       "      <td>4242425860188448</td>\n",
       "      <td>1526959842</td>\n",
       "      <td>0</td>\n",
       "      <td>0</td>\n",
       "      <td>0</td>\n",
       "      <td>敢不敢抽我[doge]</td>\n",
       "      <td>敢不敢抽我[doge]</td>\n",
       "      <td>...</td>\n",
       "      <td>100</td>\n",
       "      <td>1000</td>\n",
       "      <td>False</td>\n",
       "      <td>NaN</td>\n",
       "      <td>-1</td>\n",
       "      <td>其他</td>\n",
       "      <td>https://tva2.sinaimg.cn/crop.0.0.996.996.180/0...</td>\n",
       "      <td>True</td>\n",
       "      <td>null</td>\n",
       "      <td>null</td>\n",
       "    </tr>\n",
       "    <tr>\n",
       "      <th>4</th>\n",
       "      <td>4242439495713283</td>\n",
       "      <td>4242439495713283</td>\n",
       "      <td>5659095877</td>\n",
       "      <td>4242425860188448</td>\n",
       "      <td>1526959859</td>\n",
       "      <td>0</td>\n",
       "      <td>0</td>\n",
       "      <td>0</td>\n",
       "      <td>哇哦 酷炫</td>\n",
       "      <td>哇哦 酷炫</td>\n",
       "      <td>...</td>\n",
       "      <td>100</td>\n",
       "      <td>1000</td>\n",
       "      <td>False</td>\n",
       "      <td>NaN</td>\n",
       "      <td>-1</td>\n",
       "      <td>其他</td>\n",
       "      <td>https://tvax4.sinaimg.cn/crop.0.0.996.996.180/...</td>\n",
       "      <td>True</td>\n",
       "      <td>null</td>\n",
       "      <td>null</td>\n",
       "    </tr>\n",
       "  </tbody>\n",
       "</table>\n",
       "<p>5 rows × 30 columns</p>\n",
       "</div>"
      ],
      "text/plain": [
       "                 id               mid         uid            parent  \\\n",
       "0  4242425860188448  4242425860188448  6208395989              null   \n",
       "1  4242429152513496  4242429152513496  3831881845  4242425860188448   \n",
       "2  4242435666349141  4242435666349141  2610108217  4242425860188448   \n",
       "3  4242439423860642  4242439423860642  5277533822  4242425860188448   \n",
       "4  4242439495713283  4242439495713283  5659095877  4242425860188448   \n",
       "\n",
       "            t  reposts_count  attitudes_count  comments_count  \\\n",
       "0  1526956607           3859             1190            2690   \n",
       "1  1526957393              0                0               0   \n",
       "2  1526958946              0                1               0   \n",
       "3  1526959842              0                0               0   \n",
       "4  1526959859              0                0               0   \n",
       "\n",
       "                                                text  \\\n",
       "0  次世代旗舰手机#坚果R1#，内藏来自未来的“电脑”，应该用来自未来的方式感受。点击体验：ht...   \n",
       "1                      锤子科技，坚果R1[鼓掌][鼓掌][good][good]   \n",
       "2                                              抽我[污]   \n",
       "3                                        敢不敢抽我[doge]   \n",
       "4                                              哇哦 酷炫   \n",
       "\n",
       "                                       original_text  ...   province  city  \\\n",
       "0  次世代旗舰手机#坚果R1#，内藏来自未来的“电脑”，应该用来自未来的方式感受。点击体验：ht...  ...         33  1000   \n",
       "1                      锤子科技，坚果R1[鼓掌][鼓掌][good][good]  ...         34    17   \n",
       "2                                              抽我[污]  ...         11  1000   \n",
       "3                                        敢不敢抽我[doge]  ...        100  1000   \n",
       "4                                              哇哦 酷炫  ...        100  1000   \n",
       "\n",
       "   verified  verified_reason  verified_type  user_location  \\\n",
       "0      True     惟真科技有限公司官方微博              2             浙江   \n",
       "1     False              NaN             -1          安徽 池州   \n",
       "2     False              NaN             -1             北京   \n",
       "3     False              NaN             -1             其他   \n",
       "4     False              NaN             -1             其他   \n",
       "\n",
       "                                         user_avatar user_geo_enabled picture  \\\n",
       "0  https://tvax1.sinaimg.cn/crop.0.0.200.200.180/...            False    null   \n",
       "1  https://tvax1.sinaimg.cn/crop.0.0.960.960.180/...             True    null   \n",
       "2  https://tvax3.sinaimg.cn/crop.0.0.1342.1342.18...             True    null   \n",
       "3  https://tva2.sinaimg.cn/crop.0.0.996.996.180/0...             True    null   \n",
       "4  https://tvax4.sinaimg.cn/crop.0.0.996.996.180/...             True    null   \n",
       "\n",
       "    geo  \n",
       "0  null  \n",
       "1  null  \n",
       "2  null  \n",
       "3  null  \n",
       "4  null  \n",
       "\n",
       "[5 rows x 30 columns]"
      ]
     },
     "execution_count": 5,
     "metadata": {},
     "output_type": "execute_result"
    }
   ],
   "source": [
    "df.head()"
   ]
  },
  {
   "cell_type": "markdown",
   "metadata": {},
   "source": [
    "*  text是将original_text中的评论内容提炼出来，保留text列即可  \n",
    "*  screen_name和username：都是微博用户的昵称，要删除一列  \n",
    "*  id和mid：都是用来标识单条评论，保留一列即可\n",
    "*  user_avatar：微博用户头像链接。我们这次不涉及复杂的图像识别，所以这列数据也可以去掉  \n",
    "\n",
    "* t和user_created_at：是时间戳，要转为日期时间格式"
   ]
  },
  {
   "cell_type": "code",
   "execution_count": 6,
   "metadata": {
    "scrolled": true
   },
   "outputs": [
    {
     "data": {
      "text/plain": [
       "(3825, 30)"
      ]
     },
     "execution_count": 6,
     "metadata": {},
     "output_type": "execute_result"
    }
   ],
   "source": [
    "df.shape"
   ]
  },
  {
   "cell_type": "markdown",
   "metadata": {},
   "source": [
    "* 数据量：3825 columns x 30 rows"
   ]
  },
  {
   "cell_type": "markdown",
   "metadata": {},
   "source": [
    "#### 看一下空值都有多少"
   ]
  },
  {
   "cell_type": "code",
   "execution_count": 7,
   "metadata": {
    "scrolled": false
   },
   "outputs": [
    {
     "data": {
      "text/plain": [
       "id                       0\n",
       "mid                      0\n",
       "uid                      0\n",
       "parent                   0\n",
       "t                        0\n",
       "reposts_count            0\n",
       "attitudes_count          0\n",
       "comments_count           0\n",
       "text                    34\n",
       "original_text            0\n",
       "user_created_at          0\n",
       "followers_count          0\n",
       "bi_followers_count       0\n",
       "favourites_count         0\n",
       "statuses_count           0\n",
       "friends_count            0\n",
       "username                 0\n",
       "screen_name              0\n",
       "user_description      1316\n",
       "gender                   0\n",
       "province                 0\n",
       "city                     0\n",
       "verified                 0\n",
       "verified_reason       3657\n",
       "verified_type            0\n",
       "user_location            0\n",
       "user_avatar              0\n",
       "user_geo_enabled         0\n",
       "picture                  0\n",
       "geo                      0\n",
       "dtype: int64"
      ]
     },
     "execution_count": 7,
     "metadata": {},
     "output_type": "execute_result"
    }
   ],
   "source": [
    "df.isnull().sum()"
   ]
  },
  {
   "cell_type": "markdown",
   "metadata": {},
   "source": [
    "#### 看一下各feature的数据类型"
   ]
  },
  {
   "cell_type": "code",
   "execution_count": 9,
   "metadata": {
    "scrolled": false
   },
   "outputs": [
    {
     "name": "stdout",
     "output_type": "stream",
     "text": [
      "<class 'pandas.core.frame.DataFrame'>\n",
      "RangeIndex: 3825 entries, 0 to 3824\n",
      "Data columns (total 30 columns):\n",
      "id                    3825 non-null int64\n",
      "mid                   3825 non-null int64\n",
      "uid                   3825 non-null int64\n",
      "parent                3825 non-null object\n",
      "t                     3825 non-null int64\n",
      "reposts_count         3825 non-null int64\n",
      "attitudes_count       3825 non-null int64\n",
      "comments_count        3825 non-null int64\n",
      "text                  3791 non-null object\n",
      "original_text         3825 non-null object\n",
      "user_created_at       3825 non-null int64\n",
      "followers_count       3825 non-null int64\n",
      "bi_followers_count    3825 non-null int64\n",
      "favourites_count      3825 non-null int64\n",
      "statuses_count        3825 non-null int64\n",
      "friends_count         3825 non-null int64\n",
      "username              3825 non-null object\n",
      "screen_name           3825 non-null object\n",
      "user_description      2509 non-null object\n",
      "gender                3825 non-null object\n",
      "province              3825 non-null int64\n",
      "city                  3825 non-null int64\n",
      "verified              3825 non-null bool\n",
      "verified_reason       168 non-null object\n",
      "verified_type         3825 non-null int64\n",
      "user_location         3825 non-null object\n",
      "user_avatar           3825 non-null object\n",
      "user_geo_enabled      3825 non-null bool\n",
      "picture               3825 non-null object\n",
      "geo                   3825 non-null object\n",
      "dtypes: bool(2), int64(16), object(12)\n",
      "memory usage: 844.3+ KB\n"
     ]
    }
   ],
   "source": [
    "df.info()"
   ]
  },
  {
   "cell_type": "markdown",
   "metadata": {},
   "source": [
    "#### picture和geo没有空值，但是数据前五行都显示null，这是怎么回事？"
   ]
  },
  {
   "cell_type": "code",
   "execution_count": 10,
   "metadata": {},
   "outputs": [
    {
     "data": {
      "text/plain": [
       "null    3825\n",
       "Name: picture, dtype: int64"
      ]
     },
     "execution_count": 10,
     "metadata": {},
     "output_type": "execute_result"
    }
   ],
   "source": [
    "df.picture.value_counts()"
   ]
  },
  {
   "cell_type": "code",
   "execution_count": 11,
   "metadata": {},
   "outputs": [
    {
     "data": {
      "text/plain": [
       "null    3825\n",
       "Name: geo, dtype: int64"
      ]
     },
     "execution_count": 11,
     "metadata": {},
     "output_type": "execute_result"
    }
   ],
   "source": [
    "df.geo.value_counts()"
   ]
  },
  {
   "cell_type": "markdown",
   "metadata": {},
   "source": [
    "* 原来都是 \"null\" 字符串，那么这两列数据可以删除"
   ]
  },
  {
   "cell_type": "markdown",
   "metadata": {},
   "source": [
    "#### <span style=\"color:green\">verified_reason 微博身份认证<span>\n",
    "verified_reason的空值非常多，只有168条数据。  \n",
    "通过微博认证的都是在公众熟悉的某领域内有一定知名度和影响力的人，从认证的身份能看出其所属的领域，是很重要的信息，不能直接删除，先放着。"
   ]
  },
  {
   "cell_type": "code",
   "execution_count": 13,
   "metadata": {},
   "outputs": [
    {
     "data": {
      "text/plain": [
       "168"
      ]
     },
     "execution_count": 13,
     "metadata": {},
     "output_type": "execute_result"
    }
   ],
   "source": [
    "df.verified_reason.notnull().sum()"
   ]
  },
  {
   "cell_type": "code",
   "execution_count": 14,
   "metadata": {
    "scrolled": true
   },
   "outputs": [
    {
     "data": {
      "text/plain": [
       "数码博主                 10\n",
       "知名数码博主                6\n",
       "互联网资讯博主               5\n",
       "摄影博主                  4\n",
       "惟真科技有限公司官方微博          4\n",
       "数码博主 头条文章作者           3\n",
       "手机之友网  手机测评师          2\n",
       "美食博主                  2\n",
       "摄影博主 娱乐综艺视频自媒体        2\n",
       "北京翔林通电子商务有限公司营运经理     2\n",
       "Name: verified_reason, dtype: int64"
      ]
     },
     "execution_count": 14,
     "metadata": {},
     "output_type": "execute_result"
    }
   ],
   "source": [
    "df.verified_reason.value_counts().head(10)"
   ]
  },
  {
   "cell_type": "markdown",
   "metadata": {},
   "source": [
    "#### 再用describe()查看数值型数据的分布"
   ]
  },
  {
   "cell_type": "code",
   "execution_count": 18,
   "metadata": {
    "scrolled": false
   },
   "outputs": [
    {
     "data": {
      "text/html": [
       "<div>\n",
       "<style>\n",
       "    .dataframe thead tr:only-child th {\n",
       "        text-align: right;\n",
       "    }\n",
       "\n",
       "    .dataframe thead th {\n",
       "        text-align: left;\n",
       "    }\n",
       "\n",
       "    .dataframe tbody tr th {\n",
       "        vertical-align: top;\n",
       "    }\n",
       "</style>\n",
       "<table border=\"1\" class=\"dataframe\">\n",
       "  <thead>\n",
       "    <tr style=\"text-align: right;\">\n",
       "      <th></th>\n",
       "      <th>id</th>\n",
       "      <th>mid</th>\n",
       "      <th>uid</th>\n",
       "      <th>t</th>\n",
       "      <th>reposts_count</th>\n",
       "      <th>attitudes_count</th>\n",
       "      <th>comments_count</th>\n",
       "      <th>user_created_at</th>\n",
       "      <th>followers_count</th>\n",
       "      <th>bi_followers_count</th>\n",
       "      <th>favourites_count</th>\n",
       "      <th>statuses_count</th>\n",
       "      <th>friends_count</th>\n",
       "      <th>province</th>\n",
       "      <th>city</th>\n",
       "      <th>verified_type</th>\n",
       "    </tr>\n",
       "  </thead>\n",
       "  <tbody>\n",
       "    <tr>\n",
       "      <th>count</th>\n",
       "      <td>3.825000e+03</td>\n",
       "      <td>3.825000e+03</td>\n",
       "      <td>3.825000e+03</td>\n",
       "      <td>3.825000e+03</td>\n",
       "      <td>3825.000000</td>\n",
       "      <td>3825.000000</td>\n",
       "      <td>3825.000000</td>\n",
       "      <td>3.825000e+03</td>\n",
       "      <td>3.825000e+03</td>\n",
       "      <td>3825.000000</td>\n",
       "      <td>3825.000000</td>\n",
       "      <td>3825.000000</td>\n",
       "      <td>3825.000000</td>\n",
       "      <td>3825.000000</td>\n",
       "      <td>3825.000000</td>\n",
       "      <td>3825.000000</td>\n",
       "    </tr>\n",
       "    <tr>\n",
       "      <th>mean</th>\n",
       "      <td>4.242886e+15</td>\n",
       "      <td>4.242886e+15</td>\n",
       "      <td>4.021377e+09</td>\n",
       "      <td>1.527066e+09</td>\n",
       "      <td>1.026667</td>\n",
       "      <td>0.371503</td>\n",
       "      <td>0.751111</td>\n",
       "      <td>1.386427e+09</td>\n",
       "      <td>9.499495e+02</td>\n",
       "      <td>51.518431</td>\n",
       "      <td>247.782222</td>\n",
       "      <td>2295.164444</td>\n",
       "      <td>517.398170</td>\n",
       "      <td>52.805752</td>\n",
       "      <td>334.705098</td>\n",
       "      <td>15.009935</td>\n",
       "    </tr>\n",
       "    <tr>\n",
       "      <th>std</th>\n",
       "      <td>2.654151e+11</td>\n",
       "      <td>2.654151e+11</td>\n",
       "      <td>1.814218e+09</td>\n",
       "      <td>6.327991e+04</td>\n",
       "      <td>62.396369</td>\n",
       "      <td>19.242908</td>\n",
       "      <td>43.495903</td>\n",
       "      <td>7.680313e+07</td>\n",
       "      <td>2.060564e+04</td>\n",
       "      <td>121.006061</td>\n",
       "      <td>1747.700323</td>\n",
       "      <td>6657.039982</td>\n",
       "      <td>709.014491</td>\n",
       "      <td>58.435412</td>\n",
       "      <td>467.769426</td>\n",
       "      <td>57.011041</td>\n",
       "    </tr>\n",
       "    <tr>\n",
       "      <th>min</th>\n",
       "      <td>4.242426e+15</td>\n",
       "      <td>4.242426e+15</td>\n",
       "      <td>9.831745e+06</td>\n",
       "      <td>1.526957e+09</td>\n",
       "      <td>0.000000</td>\n",
       "      <td>0.000000</td>\n",
       "      <td>0.000000</td>\n",
       "      <td>1.251448e+09</td>\n",
       "      <td>0.000000e+00</td>\n",
       "      <td>-29.000000</td>\n",
       "      <td>0.000000</td>\n",
       "      <td>1.000000</td>\n",
       "      <td>1.000000</td>\n",
       "      <td>11.000000</td>\n",
       "      <td>1.000000</td>\n",
       "      <td>-1.000000</td>\n",
       "    </tr>\n",
       "    <tr>\n",
       "      <th>25%</th>\n",
       "      <td>4.242748e+15</td>\n",
       "      <td>4.242748e+15</td>\n",
       "      <td>2.246039e+09</td>\n",
       "      <td>1.527033e+09</td>\n",
       "      <td>0.000000</td>\n",
       "      <td>0.000000</td>\n",
       "      <td>0.000000</td>\n",
       "      <td>1.315061e+09</td>\n",
       "      <td>4.100000e+01</td>\n",
       "      <td>3.000000</td>\n",
       "      <td>1.000000</td>\n",
       "      <td>88.000000</td>\n",
       "      <td>114.000000</td>\n",
       "      <td>32.000000</td>\n",
       "      <td>2.000000</td>\n",
       "      <td>-1.000000</td>\n",
       "    </tr>\n",
       "    <tr>\n",
       "      <th>50%</th>\n",
       "      <td>4.242840e+15</td>\n",
       "      <td>4.242840e+15</td>\n",
       "      <td>3.827875e+09</td>\n",
       "      <td>1.527055e+09</td>\n",
       "      <td>0.000000</td>\n",
       "      <td>0.000000</td>\n",
       "      <td>0.000000</td>\n",
       "      <td>1.383350e+09</td>\n",
       "      <td>1.110000e+02</td>\n",
       "      <td>15.000000</td>\n",
       "      <td>8.000000</td>\n",
       "      <td>438.000000</td>\n",
       "      <td>281.000000</td>\n",
       "      <td>37.000000</td>\n",
       "      <td>8.000000</td>\n",
       "      <td>-1.000000</td>\n",
       "    </tr>\n",
       "    <tr>\n",
       "      <th>75%</th>\n",
       "      <td>4.243094e+15</td>\n",
       "      <td>4.243094e+15</td>\n",
       "      <td>5.760352e+09</td>\n",
       "      <td>1.527116e+09</td>\n",
       "      <td>0.000000</td>\n",
       "      <td>0.000000</td>\n",
       "      <td>0.000000</td>\n",
       "      <td>1.448609e+09</td>\n",
       "      <td>3.060000e+02</td>\n",
       "      <td>52.000000</td>\n",
       "      <td>64.000000</td>\n",
       "      <td>2023.000000</td>\n",
       "      <td>616.000000</td>\n",
       "      <td>51.000000</td>\n",
       "      <td>1000.000000</td>\n",
       "      <td>-1.000000</td>\n",
       "    </tr>\n",
       "    <tr>\n",
       "      <th>max</th>\n",
       "      <td>4.243586e+15</td>\n",
       "      <td>4.243586e+15</td>\n",
       "      <td>6.558672e+09</td>\n",
       "      <td>1.527233e+09</td>\n",
       "      <td>3859.000000</td>\n",
       "      <td>1190.000000</td>\n",
       "      <td>2690.000000</td>\n",
       "      <td>1.527180e+09</td>\n",
       "      <td>1.242671e+06</td>\n",
       "      <td>1703.000000</td>\n",
       "      <td>59155.000000</td>\n",
       "      <td>158361.000000</td>\n",
       "      <td>8890.000000</td>\n",
       "      <td>400.000000</td>\n",
       "      <td>1000.000000</td>\n",
       "      <td>220.000000</td>\n",
       "    </tr>\n",
       "  </tbody>\n",
       "</table>\n",
       "</div>"
      ],
      "text/plain": [
       "                 id           mid           uid             t  reposts_count  \\\n",
       "count  3.825000e+03  3.825000e+03  3.825000e+03  3.825000e+03    3825.000000   \n",
       "mean   4.242886e+15  4.242886e+15  4.021377e+09  1.527066e+09       1.026667   \n",
       "std    2.654151e+11  2.654151e+11  1.814218e+09  6.327991e+04      62.396369   \n",
       "min    4.242426e+15  4.242426e+15  9.831745e+06  1.526957e+09       0.000000   \n",
       "25%    4.242748e+15  4.242748e+15  2.246039e+09  1.527033e+09       0.000000   \n",
       "50%    4.242840e+15  4.242840e+15  3.827875e+09  1.527055e+09       0.000000   \n",
       "75%    4.243094e+15  4.243094e+15  5.760352e+09  1.527116e+09       0.000000   \n",
       "max    4.243586e+15  4.243586e+15  6.558672e+09  1.527233e+09    3859.000000   \n",
       "\n",
       "       attitudes_count  comments_count  user_created_at  followers_count  \\\n",
       "count      3825.000000     3825.000000     3.825000e+03     3.825000e+03   \n",
       "mean          0.371503        0.751111     1.386427e+09     9.499495e+02   \n",
       "std          19.242908       43.495903     7.680313e+07     2.060564e+04   \n",
       "min           0.000000        0.000000     1.251448e+09     0.000000e+00   \n",
       "25%           0.000000        0.000000     1.315061e+09     4.100000e+01   \n",
       "50%           0.000000        0.000000     1.383350e+09     1.110000e+02   \n",
       "75%           0.000000        0.000000     1.448609e+09     3.060000e+02   \n",
       "max        1190.000000     2690.000000     1.527180e+09     1.242671e+06   \n",
       "\n",
       "       bi_followers_count  favourites_count  statuses_count  friends_count  \\\n",
       "count         3825.000000       3825.000000     3825.000000    3825.000000   \n",
       "mean            51.518431        247.782222     2295.164444     517.398170   \n",
       "std            121.006061       1747.700323     6657.039982     709.014491   \n",
       "min            -29.000000          0.000000        1.000000       1.000000   \n",
       "25%              3.000000          1.000000       88.000000     114.000000   \n",
       "50%             15.000000          8.000000      438.000000     281.000000   \n",
       "75%             52.000000         64.000000     2023.000000     616.000000   \n",
       "max           1703.000000      59155.000000   158361.000000    8890.000000   \n",
       "\n",
       "          province         city  verified_type  \n",
       "count  3825.000000  3825.000000    3825.000000  \n",
       "mean     52.805752   334.705098      15.009935  \n",
       "std      58.435412   467.769426      57.011041  \n",
       "min      11.000000     1.000000      -1.000000  \n",
       "25%      32.000000     2.000000      -1.000000  \n",
       "50%      37.000000     8.000000      -1.000000  \n",
       "75%      51.000000  1000.000000      -1.000000  \n",
       "max     400.000000  1000.000000     220.000000  "
      ]
     },
     "execution_count": 18,
     "metadata": {},
     "output_type": "execute_result"
    }
   ],
   "source": [
    "df.describe()"
   ]
  },
  {
   "cell_type": "markdown",
   "metadata": {},
   "source": [
    "* 看到最大值和四分位数的差距我们能感觉到数据中分布不均匀"
   ]
  },
  {
   "cell_type": "markdown",
   "metadata": {},
   "source": [
    "#### <span style=\"color:green\">高端异常值<span>\n",
    "我们的分析对象是参与互动的用户，惟真科技作为广告发布方不应该加入分析数据；  \n",
    "父微博的互动数据统计在惟真科技名下，再加上互动最活跃，产生的数据会比正常用户多很多。"
   ]
  },
  {
   "cell_type": "code",
   "execution_count": 35,
   "metadata": {},
   "outputs": [
    {
     "data": {
      "text/plain": [
       "Text(0,0.5,'评论数')"
      ]
     },
     "execution_count": 35,
     "metadata": {},
     "output_type": "execute_result"
    },
    {
     "data": {
      "image/png": "[encoded data removed]",
      "text/plain": [
       "<matplotlib.figure.Figure at 0x2c012052f98>"
      ]
     },
     "metadata": {},
     "output_type": "display_data"
    }
   ],
   "source": [
    "fig = plt.figure(figsize=(15,5))\n",
    "fig.set(alpha=0.2)\n",
    "\n",
    "plt.subplot2grid((1,3),(0,0))\n",
    "\n",
    "plt.scatter(df.uid, df.reposts_count, color='r', s=13)\n",
    "plt.title('转发数分布情况', fontsize=11)\n",
    "plt.xlabel('Users')\n",
    "plt.ylabel('转发数', fontsize=11)\n",
    "\n",
    "plt.subplot2grid((1,3),(0,1))\n",
    "plt.scatter(df.uid, df.attitudes_count, color='g', s=13)                             \n",
    "plt.title(\"表态数分布情况\", fontsize=11)\n",
    "plt.xlabel('Users')\n",
    "plt.ylabel('表态数', fontsize=11)\n",
    "\n",
    "plt.subplot2grid((1,3),(0,2))\n",
    "plt.scatter(df.uid, df.comments_count, color='b', s=13)                             \n",
    "plt.title(\"评论数分布情况\", fontsize=11)\n",
    "plt.xlabel('Users')\n",
    "plt.ylabel('评论数', fontsize=11)"
   ]
  },
  {
   "cell_type": "markdown",
   "metadata": {},
   "source": [
    "#### 惟真科技的 uid 是 6208395989，我们来看一下它的互动量有多少"
   ]
  },
  {
   "cell_type": "code",
   "execution_count": 17,
   "metadata": {
    "scrolled": false
   },
   "outputs": [
    {
     "data": {
      "text/html": [
       "<div>\n",
       "<style>\n",
       "    .dataframe thead tr:only-child th {\n",
       "        text-align: right;\n",
       "    }\n",
       "\n",
       "    .dataframe thead th {\n",
       "        text-align: left;\n",
       "    }\n",
       "\n",
       "    .dataframe tbody tr th {\n",
       "        vertical-align: top;\n",
       "    }\n",
       "</style>\n",
       "<table border=\"1\" class=\"dataframe\">\n",
       "  <thead>\n",
       "    <tr style=\"text-align: right;\">\n",
       "      <th></th>\n",
       "      <th>id</th>\n",
       "      <th>mid</th>\n",
       "      <th>uid</th>\n",
       "      <th>parent</th>\n",
       "      <th>t</th>\n",
       "      <th>reposts_count</th>\n",
       "      <th>attitudes_count</th>\n",
       "      <th>comments_count</th>\n",
       "      <th>text</th>\n",
       "      <th>original_text</th>\n",
       "      <th>...</th>\n",
       "      <th>province</th>\n",
       "      <th>city</th>\n",
       "      <th>verified</th>\n",
       "      <th>verified_reason</th>\n",
       "      <th>verified_type</th>\n",
       "      <th>user_location</th>\n",
       "      <th>user_avatar</th>\n",
       "      <th>user_geo_enabled</th>\n",
       "      <th>picture</th>\n",
       "      <th>geo</th>\n",
       "    </tr>\n",
       "  </thead>\n",
       "  <tbody>\n",
       "    <tr>\n",
       "      <th>0</th>\n",
       "      <td>4242425860188448</td>\n",
       "      <td>4242425860188448</td>\n",
       "      <td>6208395989</td>\n",
       "      <td>null</td>\n",
       "      <td>1526956607</td>\n",
       "      <td>3859</td>\n",
       "      <td>1190</td>\n",
       "      <td>2690</td>\n",
       "      <td>次世代旗舰手机#坚果R1#，内藏来自未来的“电脑”，应该用来自未来的方式感受。点击体验：ht...</td>\n",
       "      <td>次世代旗舰手机#坚果R1#，内藏来自未来的“电脑”，应该用来自未来的方式感受。点击体验：ht...</td>\n",
       "      <td>...</td>\n",
       "      <td>33</td>\n",
       "      <td>1000</td>\n",
       "      <td>True</td>\n",
       "      <td>惟真科技有限公司官方微博</td>\n",
       "      <td>2</td>\n",
       "      <td>浙江</td>\n",
       "      <td>https://tvax1.sinaimg.cn/crop.0.0.200.200.180/...</td>\n",
       "      <td>False</td>\n",
       "      <td>null</td>\n",
       "      <td>null</td>\n",
       "    </tr>\n",
       "    <tr>\n",
       "      <th>114</th>\n",
       "      <td>4242486589619284</td>\n",
       "      <td>4242486589619284</td>\n",
       "      <td>6208395989</td>\n",
       "      <td>4242425860188448</td>\n",
       "      <td>1526971086</td>\n",
       "      <td>2</td>\n",
       "      <td>3</td>\n",
       "      <td>0</td>\n",
       "      <td>坚果R1互动展示已出，pc端：http://t.cn/R3rBPON 手机端：http://...</td>\n",
       "      <td>坚果R1互动展示已出，pc端：http://t.cn/R3rBPON 手机端：http://...</td>\n",
       "      <td>...</td>\n",
       "      <td>33</td>\n",
       "      <td>1000</td>\n",
       "      <td>True</td>\n",
       "      <td>惟真科技有限公司官方微博</td>\n",
       "      <td>2</td>\n",
       "      <td>浙江</td>\n",
       "      <td>https://tvax1.sinaimg.cn/crop.0.0.200.200.180/...</td>\n",
       "      <td>False</td>\n",
       "      <td>null</td>\n",
       "      <td>null</td>\n",
       "    </tr>\n",
       "    <tr>\n",
       "      <th>128</th>\n",
       "      <td>4242487842716995</td>\n",
       "      <td>4242487842716995</td>\n",
       "      <td>6208395989</td>\n",
       "      <td>4242487650319140</td>\n",
       "      <td>1526971386</td>\n",
       "      <td>0</td>\n",
       "      <td>5</td>\n",
       "      <td>1</td>\n",
       "      <td>感谢转发！</td>\n",
       "      <td>感谢转发！//@IT数码推:转发微博</td>\n",
       "      <td>...</td>\n",
       "      <td>33</td>\n",
       "      <td>1000</td>\n",
       "      <td>True</td>\n",
       "      <td>惟真科技有限公司官方微博</td>\n",
       "      <td>2</td>\n",
       "      <td>浙江</td>\n",
       "      <td>https://tvax1.sinaimg.cn/crop.0.0.200.200.180/...</td>\n",
       "      <td>False</td>\n",
       "      <td>null</td>\n",
       "      <td>null</td>\n",
       "    </tr>\n",
       "    <tr>\n",
       "      <th>879</th>\n",
       "      <td>4242732560360384</td>\n",
       "      <td>4242732560360384</td>\n",
       "      <td>6208395989</td>\n",
       "      <td>4242609675589008</td>\n",
       "      <td>1527029731</td>\n",
       "      <td>3</td>\n",
       "      <td>9</td>\n",
       "      <td>4</td>\n",
       "      <td>在我们这里可以用来自未来的方式体验很多东西，哈哈</td>\n",
       "      <td>在我们这里可以用来自未来的方式体验很多东西，哈哈//@七只马克杯_ape: 十分想知道这家公...</td>\n",
       "      <td>...</td>\n",
       "      <td>33</td>\n",
       "      <td>1000</td>\n",
       "      <td>True</td>\n",
       "      <td>惟真科技有限公司官方微博</td>\n",
       "      <td>2</td>\n",
       "      <td>浙江</td>\n",
       "      <td>https://tvax1.sinaimg.cn/crop.0.0.200.200.180/...</td>\n",
       "      <td>False</td>\n",
       "      <td>null</td>\n",
       "      <td>null</td>\n",
       "    </tr>\n",
       "  </tbody>\n",
       "</table>\n",
       "<p>4 rows × 30 columns</p>\n",
       "</div>"
      ],
      "text/plain": [
       "                   id               mid         uid            parent  \\\n",
       "0    4242425860188448  4242425860188448  6208395989              null   \n",
       "114  4242486589619284  4242486589619284  6208395989  4242425860188448   \n",
       "128  4242487842716995  4242487842716995  6208395989  4242487650319140   \n",
       "879  4242732560360384  4242732560360384  6208395989  4242609675589008   \n",
       "\n",
       "              t  reposts_count  attitudes_count  comments_count  \\\n",
       "0    1526956607           3859             1190            2690   \n",
       "114  1526971086              2                3               0   \n",
       "128  1526971386              0                5               1   \n",
       "879  1527029731              3                9               4   \n",
       "\n",
       "                                                  text  \\\n",
       "0    次世代旗舰手机#坚果R1#，内藏来自未来的“电脑”，应该用来自未来的方式感受。点击体验：ht...   \n",
       "114  坚果R1互动展示已出，pc端：http://t.cn/R3rBPON 手机端：http://...   \n",
       "128                                              感谢转发！   \n",
       "879                           在我们这里可以用来自未来的方式体验很多东西，哈哈   \n",
       "\n",
       "                                         original_text  ...   province  city  \\\n",
       "0    次世代旗舰手机#坚果R1#，内藏来自未来的“电脑”，应该用来自未来的方式感受。点击体验：ht...  ...         33  1000   \n",
       "114  坚果R1互动展示已出，pc端：http://t.cn/R3rBPON 手机端：http://...  ...         33  1000   \n",
       "128                                 感谢转发！//@IT数码推:转发微博  ...         33  1000   \n",
       "879  在我们这里可以用来自未来的方式体验很多东西，哈哈//@七只马克杯_ape: 十分想知道这家公...  ...         33  1000   \n",
       "\n",
       "     verified  verified_reason  verified_type  user_location  \\\n",
       "0        True     惟真科技有限公司官方微博              2             浙江   \n",
       "114      True     惟真科技有限公司官方微博              2             浙江   \n",
       "128      True     惟真科技有限公司官方微博              2             浙江   \n",
       "879      True     惟真科技有限公司官方微博              2             浙江   \n",
       "\n",
       "                                           user_avatar user_geo_enabled  \\\n",
       "0    https://tvax1.sinaimg.cn/crop.0.0.200.200.180/...            False   \n",
       "114  https://tvax1.sinaimg.cn/crop.0.0.200.200.180/...            False   \n",
       "128  https://tvax1.sinaimg.cn/crop.0.0.200.200.180/...            False   \n",
       "879  https://tvax1.sinaimg.cn/crop.0.0.200.200.180/...            False   \n",
       "\n",
       "    picture   geo  \n",
       "0      null  null  \n",
       "114    null  null  \n",
       "128    null  null  \n",
       "879    null  null  \n",
       "\n",
       "[4 rows x 30 columns]"
      ]
     },
     "execution_count": 17,
     "metadata": {},
     "output_type": "execute_result"
    }
   ],
   "source": [
    "df.loc[(df.uid.values == 6208395989), :]"
   ]
  },
  {
   "cell_type": "markdown",
   "metadata": {},
   "source": [
    "* 第一条父微博的统计数据太大了，整体拉高了数据上限，是一个高端异常值，我们要把它剔除。\n",
    "* 惟真科技的数据行号分别为：0，114，128, 879"
   ]
  },
  {
   "cell_type": "markdown",
   "metadata": {},
   "source": [
    "### <span style=\"color:orange\">数据处理<span>\n",
    "#### 数据已经大体了解了，接下来该处理空值和数据类型，为数据分析做准备"
   ]
  },
  {
   "cell_type": "markdown",
   "metadata": {},
   "source": [
    "#### <span style=\"color:green\">删除异常值：uid = 6208395989<span>"
   ]
  },
  {
   "cell_type": "code",
   "execution_count": 51,
   "metadata": {},
   "outputs": [],
   "source": [
    "df.drop(df.index[[0,114,128,879]], inplace=True)"
   ]
  },
  {
   "cell_type": "code",
   "execution_count": 53,
   "metadata": {},
   "outputs": [
    {
     "data": {
      "text/html": [
       "<div>\n",
       "<style>\n",
       "    .dataframe thead tr:only-child th {\n",
       "        text-align: right;\n",
       "    }\n",
       "\n",
       "    .dataframe thead th {\n",
       "        text-align: left;\n",
       "    }\n",
       "\n",
       "    .dataframe tbody tr th {\n",
       "        vertical-align: top;\n",
       "    }\n",
       "</style>\n",
       "<table border=\"1\" class=\"dataframe\">\n",
       "  <thead>\n",
       "    <tr style=\"text-align: right;\">\n",
       "      <th></th>\n",
       "      <th>id</th>\n",
       "      <th>mid</th>\n",
       "      <th>uid</th>\n",
       "      <th>parent</th>\n",
       "      <th>t</th>\n",
       "      <th>reposts_count</th>\n",
       "      <th>attitudes_count</th>\n",
       "      <th>comments_count</th>\n",
       "      <th>text</th>\n",
       "      <th>original_text</th>\n",
       "      <th>...</th>\n",
       "      <th>province</th>\n",
       "      <th>city</th>\n",
       "      <th>verified</th>\n",
       "      <th>verified_reason</th>\n",
       "      <th>verified_type</th>\n",
       "      <th>user_location</th>\n",
       "      <th>user_avatar</th>\n",
       "      <th>user_geo_enabled</th>\n",
       "      <th>picture</th>\n",
       "      <th>geo</th>\n",
       "    </tr>\n",
       "  </thead>\n",
       "  <tbody>\n",
       "    <tr>\n",
       "      <th>1</th>\n",
       "      <td>4242429152513496</td>\n",
       "      <td>4242429152513496</td>\n",
       "      <td>3831881845</td>\n",
       "      <td>4242425860188448</td>\n",
       "      <td>1526957393</td>\n",
       "      <td>0</td>\n",
       "      <td>0</td>\n",
       "      <td>0</td>\n",
       "      <td>锤子科技，坚果R1[鼓掌][鼓掌][good][good]</td>\n",
       "      <td>锤子科技，坚果R1[鼓掌][鼓掌][good][good]</td>\n",
       "      <td>...</td>\n",
       "      <td>34</td>\n",
       "      <td>17</td>\n",
       "      <td>False</td>\n",
       "      <td>NaN</td>\n",
       "      <td>-1</td>\n",
       "      <td>安徽 池州</td>\n",
       "      <td>https://tvax1.sinaimg.cn/crop.0.0.960.960.180/...</td>\n",
       "      <td>True</td>\n",
       "      <td>null</td>\n",
       "      <td>null</td>\n",
       "    </tr>\n",
       "    <tr>\n",
       "      <th>2</th>\n",
       "      <td>4242435666349141</td>\n",
       "      <td>4242435666349141</td>\n",
       "      <td>2610108217</td>\n",
       "      <td>4242425860188448</td>\n",
       "      <td>1526958946</td>\n",
       "      <td>0</td>\n",
       "      <td>1</td>\n",
       "      <td>0</td>\n",
       "      <td>抽我[污]</td>\n",
       "      <td>抽我[污]</td>\n",
       "      <td>...</td>\n",
       "      <td>11</td>\n",
       "      <td>1000</td>\n",
       "      <td>False</td>\n",
       "      <td>NaN</td>\n",
       "      <td>-1</td>\n",
       "      <td>北京</td>\n",
       "      <td>https://tvax3.sinaimg.cn/crop.0.0.1342.1342.18...</td>\n",
       "      <td>True</td>\n",
       "      <td>null</td>\n",
       "      <td>null</td>\n",
       "    </tr>\n",
       "    <tr>\n",
       "      <th>3</th>\n",
       "      <td>4242439423860642</td>\n",
       "      <td>4242439423860642</td>\n",
       "      <td>5277533822</td>\n",
       "      <td>4242425860188448</td>\n",
       "      <td>1526959842</td>\n",
       "      <td>0</td>\n",
       "      <td>0</td>\n",
       "      <td>0</td>\n",
       "      <td>敢不敢抽我[doge]</td>\n",
       "      <td>敢不敢抽我[doge]</td>\n",
       "      <td>...</td>\n",
       "      <td>100</td>\n",
       "      <td>1000</td>\n",
       "      <td>False</td>\n",
       "      <td>NaN</td>\n",
       "      <td>-1</td>\n",
       "      <td>其他</td>\n",
       "      <td>https://tva2.sinaimg.cn/crop.0.0.996.996.180/0...</td>\n",
       "      <td>True</td>\n",
       "      <td>null</td>\n",
       "      <td>null</td>\n",
       "    </tr>\n",
       "  </tbody>\n",
       "</table>\n",
       "<p>3 rows × 30 columns</p>\n",
       "</div>"
      ],
      "text/plain": [
       "                 id               mid         uid            parent  \\\n",
       "1  4242429152513496  4242429152513496  3831881845  4242425860188448   \n",
       "2  4242435666349141  4242435666349141  2610108217  4242425860188448   \n",
       "3  4242439423860642  4242439423860642  5277533822  4242425860188448   \n",
       "\n",
       "            t  reposts_count  attitudes_count  comments_count  \\\n",
       "1  1526957393              0                0               0   \n",
       "2  1526958946              0                1               0   \n",
       "3  1526959842              0                0               0   \n",
       "\n",
       "                            text                  original_text  ...   \\\n",
       "1  锤子科技，坚果R1[鼓掌][鼓掌][good][good]  锤子科技，坚果R1[鼓掌][鼓掌][good][good]  ...    \n",
       "2                          抽我[污]                          抽我[污]  ...    \n",
       "3                    敢不敢抽我[doge]                    敢不敢抽我[doge]  ...    \n",
       "\n",
       "   province  city  verified  verified_reason  verified_type  user_location  \\\n",
       "1        34    17     False              NaN             -1          安徽 池州   \n",
       "2        11  1000     False              NaN             -1             北京   \n",
       "3       100  1000     False              NaN             -1             其他   \n",
       "\n",
       "                                         user_avatar user_geo_enabled picture  \\\n",
       "1  https://tvax1.sinaimg.cn/crop.0.0.960.960.180/...             True    null   \n",
       "2  https://tvax3.sinaimg.cn/crop.0.0.1342.1342.18...             True    null   \n",
       "3  https://tva2.sinaimg.cn/crop.0.0.996.996.180/0...             True    null   \n",
       "\n",
       "    geo  \n",
       "1  null  \n",
       "2  null  \n",
       "3  null  \n",
       "\n",
       "[3 rows x 30 columns]"
      ]
     },
     "execution_count": 53,
     "metadata": {},
     "output_type": "execute_result"
    }
   ],
   "source": [
    "df.head(3)"
   ]
  },
  {
   "cell_type": "markdown",
   "metadata": {},
   "source": [
    "#### <span style=\"color:green\">删除多余的列<span>"
   ]
  },
  {
   "cell_type": "code",
   "execution_count": 54,
   "metadata": {},
   "outputs": [],
   "source": [
    "df.drop(['mid','original_text','screen_name','user_avatar','picture','geo'], axis=1, inplace=True)"
   ]
  },
  {
   "cell_type": "code",
   "execution_count": 55,
   "metadata": {
    "scrolled": false
   },
   "outputs": [
    {
     "data": {
      "text/plain": [
       "Index(['id', 'uid', 'parent', 't', 'reposts_count', 'attitudes_count',\n",
       "       'comments_count', 'text', 'user_created_at', 'followers_count',\n",
       "       'bi_followers_count', 'favourites_count', 'statuses_count',\n",
       "       'friends_count', 'username', 'user_description', 'gender', 'province',\n",
       "       'city', 'verified', 'verified_reason', 'verified_type', 'user_location',\n",
       "       'user_geo_enabled'],\n",
       "      dtype='object')"
      ]
     },
     "execution_count": 55,
     "metadata": {},
     "output_type": "execute_result"
    }
   ],
   "source": [
    "df.columns"
   ]
  },
  {
   "cell_type": "markdown",
   "metadata": {},
   "source": [
    "#### <span style=\"color:green\">重命名：columns的名称辨识度太低了，不方便大家理解，我们将它重命名一下<span>"
   ]
  },
  {
   "cell_type": "code",
   "execution_count": 56,
   "metadata": {},
   "outputs": [],
   "source": [
    "df.rename(columns={'id':'微博id', 'uid':'用户id', 'parent':'父微博id', 't':'评论时间', 'reposts_count':'转发数',\n",
    "                   'attitudes_count':'表态数', 'comments_count':'评论数', 'text':'评论内容', 'user_created_at':'用户注册时间',\n",
    "                   'followers_count':'粉丝数', 'bi_followers_count':'互粉数', 'favourites_count':'收藏数', 'statuses_count':'微博数',\n",
    "                   'friends_count':'关注数', 'username':'用户昵称', 'user_description':'个人简介', 'gender':'性别', 'province':'省级id',\n",
    "                   'city':'城市id', 'verified':'认证用户', 'verified_reason':'认证原因', 'verified_type':'认证方式',\n",
    "                   'user_location':'用户所在地', 'user_geo_enabled':'允许标识用户的地理位置'}, inplace=True)"
   ]
  },
  {
   "cell_type": "code",
   "execution_count": 57,
   "metadata": {
    "scrolled": true
   },
   "outputs": [
    {
     "data": {
      "text/plain": [
       "Index(['微博id', '用户id', '父微博id', '评论时间', '转发数', '表态数', '评论数', '评论内容', '用户注册时间',\n",
       "       '粉丝数', '互粉数', '收藏数', '微博数', '关注数', '用户昵称', '个人简介', '性别', '省级id', '城市id',\n",
       "       '认证用户', '认证原因', '认证方式', '用户所在地', '允许标识用户的地理位置'],\n",
       "      dtype='object')"
      ]
     },
     "execution_count": 57,
     "metadata": {},
     "output_type": "execute_result"
    }
   ],
   "source": [
    "df.columns"
   ]
  },
  {
   "cell_type": "markdown",
   "metadata": {},
   "source": [
    "#### 数据格式"
   ]
  },
  {
   "cell_type": "code",
   "execution_count": 58,
   "metadata": {},
   "outputs": [
    {
     "data": {
      "text/plain": [
       "微博id            int64\n",
       "用户id            int64\n",
       "父微博id          object\n",
       "评论时间            int64\n",
       "转发数             int64\n",
       "表态数             int64\n",
       "评论数             int64\n",
       "评论内容           object\n",
       "用户注册时间          int64\n",
       "粉丝数             int64\n",
       "互粉数             int64\n",
       "收藏数             int64\n",
       "微博数             int64\n",
       "关注数             int64\n",
       "用户昵称           object\n",
       "个人简介           object\n",
       "性别             object\n",
       "省级id            int64\n",
       "城市id            int64\n",
       "认证用户             bool\n",
       "认证原因           object\n",
       "认证方式            int64\n",
       "用户所在地          object\n",
       "允许标识用户的地理位置      bool\n",
       "dtype: object"
      ]
     },
     "execution_count": 58,
     "metadata": {},
     "output_type": "execute_result"
    }
   ],
   "source": [
    "df.dtypes"
   ]
  },
  {
   "cell_type": "markdown",
   "metadata": {},
   "source": [
    "* 微博id和用户id：不需要进行数学计算，改成object比较合适\n",
    "* 评论时间和用户注册时间：格式为int，需要将它转换成datetime格式"
   ]
  },
  {
   "cell_type": "markdown",
   "metadata": {},
   "source": [
    "#### <span style=\"color:green\">转换数据格式<span>"
   ]
  },
  {
   "cell_type": "code",
   "execution_count": 61,
   "metadata": {},
   "outputs": [],
   "source": [
    "df['微博id'] = df.微博id.astype('object')"
   ]
  },
  {
   "cell_type": "code",
   "execution_count": 62,
   "metadata": {
    "scrolled": true
   },
   "outputs": [
    {
     "data": {
      "text/plain": [
       "1    4242429152513496\n",
       "2    4242435666349141\n",
       "3    4242439423860642\n",
       "4    4242439495713283\n",
       "5    4242440023501775\n",
       "Name: 微博id, dtype: object"
      ]
     },
     "execution_count": 62,
     "metadata": {},
     "output_type": "execute_result"
    }
   ],
   "source": [
    "df.微博id.head()"
   ]
  },
  {
   "cell_type": "code",
   "execution_count": 63,
   "metadata": {},
   "outputs": [],
   "source": [
    "df['用户id'] = df.用户id.astype('object')"
   ]
  },
  {
   "cell_type": "code",
   "execution_count": 64,
   "metadata": {},
   "outputs": [
    {
     "data": {
      "text/plain": [
       "1    3831881845\n",
       "2    2610108217\n",
       "3    5277533822\n",
       "4    5659095877\n",
       "5    5155582780\n",
       "Name: 用户id, dtype: object"
      ]
     },
     "execution_count": 64,
     "metadata": {},
     "output_type": "execute_result"
    }
   ],
   "source": [
    "df.用户id.head()"
   ]
  },
  {
   "cell_type": "code",
   "execution_count": 20,
   "metadata": {},
   "outputs": [],
   "source": [
    "df['评论时间'] = df.评论时间.apply(lambda x: time.strftime(\"%Y-%m-%d %H:%M:%S\", time.localtime(x)))"
   ]
  },
  {
   "cell_type": "code",
   "execution_count": 21,
   "metadata": {},
   "outputs": [
    {
     "data": {
      "text/plain": [
       "0    2018-05-22 10:36:47\n",
       "1    2018-05-22 10:49:53\n",
       "2    2018-05-22 11:15:46\n",
       "3    2018-05-22 11:30:42\n",
       "4    2018-05-22 11:30:59\n",
       "Name: 评论时间, dtype: object"
      ]
     },
     "execution_count": 21,
     "metadata": {},
     "output_type": "execute_result"
    }
   ],
   "source": [
    "df.评论时间.head()"
   ]
  },
  {
   "cell_type": "code",
   "execution_count": 22,
   "metadata": {},
   "outputs": [],
   "source": [
    "df['用户注册时间'] = df.用户注册时间.apply(lambda x: time.strftime(\"%Y-%m-%d %H:%M:%S\", time.localtime(x)))"
   ]
  },
  {
   "cell_type": "code",
   "execution_count": 23,
   "metadata": {
    "scrolled": true
   },
   "outputs": [
    {
     "data": {
      "text/plain": [
       "0    2017-04-11 09:51:43\n",
       "1    2013-10-04 00:39:39\n",
       "2    2012-02-05 21:46:41\n",
       "3    2014-09-01 20:43:56\n",
       "4    2015-07-24 06:18:25\n",
       "Name: 用户注册时间, dtype: object"
      ]
     },
     "execution_count": 23,
     "metadata": {},
     "output_type": "execute_result"
    }
   ],
   "source": [
    "df.用户注册时间.head()"
   ]
  },
  {
   "cell_type": "markdown",
   "metadata": {},
   "source": [
    "* 至此数据处理结束"
   ]
  },
  {
   "cell_type": "markdown",
   "metadata": {},
   "source": [
    "#### 保存数据"
   ]
  },
  {
   "cell_type": "code",
   "execution_count": 27,
   "metadata": {},
   "outputs": [],
   "source": [
    "df.to_csv(\"data_new.csv\", index=False)"
   ]
  },
  {
   "cell_type": "code",
   "execution_count": null,
   "metadata": {},
   "outputs": [],
   "source": []
  }
 ],
 "metadata": {
  "kernelspec": {
   "display_name": "Python [conda env:Anaconda3]",
   "language": "python",
   "name": "conda-env-Anaconda3-py"
  },
  "language_info": {
   "codemirror_mode": {
    "name": "ipython",
    "version": 3
   },
   "file_extension": ".py",
   "mimetype": "text/x-python",
   "name": "python",
   "nbconvert_exporter": "python",
   "pygments_lexer": "ipython3",
   "version": "3.6.3"
  }
 },
 "nbformat": 4,
 "nbformat_minor": 2
}
